{
 "cells": [
  {
   "cell_type": "code",
   "execution_count": 12,
   "source": [
    "import pandas as pd"
   ],
   "outputs": [],
   "metadata": {}
  },
  {
   "cell_type": "code",
   "execution_count": 13,
   "source": [
    "reviews = pd.read_csv('winemag.csv', index_col=0)\r\n",
    "pd.set_option('max_rows',6)\r\n",
    "reviews"
   ],
   "outputs": [
    {
     "output_type": "execute_result",
     "data": {
      "text/html": [
       "<div>\n",
       "<style scoped>\n",
       "    .dataframe tbody tr th:only-of-type {\n",
       "        vertical-align: middle;\n",
       "    }\n",
       "\n",
       "    .dataframe tbody tr th {\n",
       "        vertical-align: top;\n",
       "    }\n",
       "\n",
       "    .dataframe thead th {\n",
       "        text-align: right;\n",
       "    }\n",
       "</style>\n",
       "<table border=\"1\" class=\"dataframe\">\n",
       "  <thead>\n",
       "    <tr style=\"text-align: right;\">\n",
       "      <th></th>\n",
       "      <th>country</th>\n",
       "      <th>description</th>\n",
       "      <th>designation</th>\n",
       "      <th>points</th>\n",
       "      <th>price</th>\n",
       "      <th>province</th>\n",
       "      <th>region_1</th>\n",
       "      <th>region_2</th>\n",
       "      <th>taster_name</th>\n",
       "      <th>taster_twitter_handle</th>\n",
       "      <th>title</th>\n",
       "      <th>variety</th>\n",
       "      <th>winery</th>\n",
       "    </tr>\n",
       "  </thead>\n",
       "  <tbody>\n",
       "    <tr>\n",
       "      <th>0</th>\n",
       "      <td>Italy</td>\n",
       "      <td>Aromas include tropical fruit, broom, brimston...</td>\n",
       "      <td>Vulkà Bianco</td>\n",
       "      <td>87</td>\n",
       "      <td>NaN</td>\n",
       "      <td>Sicily &amp; Sardinia</td>\n",
       "      <td>Etna</td>\n",
       "      <td>NaN</td>\n",
       "      <td>Kerin O’Keefe</td>\n",
       "      <td>@kerinokeefe</td>\n",
       "      <td>Nicosia 2013 Vulkà Bianco  (Etna)</td>\n",
       "      <td>White Blend</td>\n",
       "      <td>Nicosia</td>\n",
       "    </tr>\n",
       "    <tr>\n",
       "      <th>1</th>\n",
       "      <td>Portugal</td>\n",
       "      <td>This is ripe and fruity, a wine that is smooth...</td>\n",
       "      <td>Avidagos</td>\n",
       "      <td>87</td>\n",
       "      <td>15.0</td>\n",
       "      <td>Douro</td>\n",
       "      <td>NaN</td>\n",
       "      <td>NaN</td>\n",
       "      <td>Roger Voss</td>\n",
       "      <td>@vossroger</td>\n",
       "      <td>Quinta dos Avidagos 2011 Avidagos Red (Douro)</td>\n",
       "      <td>Portuguese Red</td>\n",
       "      <td>Quinta dos Avidagos</td>\n",
       "    </tr>\n",
       "    <tr>\n",
       "      <th>2</th>\n",
       "      <td>US</td>\n",
       "      <td>Tart and snappy, the flavors of lime flesh and...</td>\n",
       "      <td>NaN</td>\n",
       "      <td>87</td>\n",
       "      <td>14.0</td>\n",
       "      <td>Oregon</td>\n",
       "      <td>Willamette Valley</td>\n",
       "      <td>Willamette Valley</td>\n",
       "      <td>Paul Gregutt</td>\n",
       "      <td>@paulgwine</td>\n",
       "      <td>Rainstorm 2013 Pinot Gris (Willamette Valley)</td>\n",
       "      <td>Pinot Gris</td>\n",
       "      <td>Rainstorm</td>\n",
       "    </tr>\n",
       "    <tr>\n",
       "      <th>...</th>\n",
       "      <td>...</td>\n",
       "      <td>...</td>\n",
       "      <td>...</td>\n",
       "      <td>...</td>\n",
       "      <td>...</td>\n",
       "      <td>...</td>\n",
       "      <td>...</td>\n",
       "      <td>...</td>\n",
       "      <td>...</td>\n",
       "      <td>...</td>\n",
       "      <td>...</td>\n",
       "      <td>...</td>\n",
       "      <td>...</td>\n",
       "    </tr>\n",
       "    <tr>\n",
       "      <th>65496</th>\n",
       "      <td>US</td>\n",
       "      <td>Much improved over the unripe 2005, Fritz's 20...</td>\n",
       "      <td>Estate</td>\n",
       "      <td>90</td>\n",
       "      <td>20.0</td>\n",
       "      <td>California</td>\n",
       "      <td>Dry Creek Valley</td>\n",
       "      <td>Sonoma</td>\n",
       "      <td>NaN</td>\n",
       "      <td>NaN</td>\n",
       "      <td>Fritz 2006 Estate Sauvignon Blanc (Dry Creek V...</td>\n",
       "      <td>Sauvignon Blanc</td>\n",
       "      <td>Fritz</td>\n",
       "    </tr>\n",
       "    <tr>\n",
       "      <th>65497</th>\n",
       "      <td>US</td>\n",
       "      <td>This wine wears its 15.8% alcohol better than ...</td>\n",
       "      <td>Block 24</td>\n",
       "      <td>90</td>\n",
       "      <td>31.0</td>\n",
       "      <td>California</td>\n",
       "      <td>Napa Valley</td>\n",
       "      <td>Napa</td>\n",
       "      <td>NaN</td>\n",
       "      <td>NaN</td>\n",
       "      <td>Hendry 2004 Block 24 Primitivo (Napa Valley)</td>\n",
       "      <td>Primitivo</td>\n",
       "      <td>Hendry</td>\n",
       "    </tr>\n",
       "    <tr>\n",
       "      <th>65498</th>\n",
       "      <td>Spain</td>\n",
       "      <td>A unique take on Manzanilla Sherry, which is o...</td>\n",
       "      <td>Manzanilla</td>\n",
       "      <td>90</td>\n",
       "      <td>10.0</td>\n",
       "      <td>Andalucia</td>\n",
       "      <td>Jerez</td>\n",
       "      <td>NaN</td>\n",
       "      <td>Michael Schachner</td>\n",
       "      <td>@wineschach</td>\n",
       "      <td>Bodegas Dios Baco S.L. NV Manzanilla Sherry (J...</td>\n",
       "      <td>Sherry</td>\n",
       "      <td>Bodegas Dios Baco S.L.</td>\n",
       "    </tr>\n",
       "  </tbody>\n",
       "</table>\n",
       "<p>65499 rows × 13 columns</p>\n",
       "</div>"
      ],
      "text/plain": [
       "        country                                        description  \\\n",
       "0         Italy  Aromas include tropical fruit, broom, brimston...   \n",
       "1      Portugal  This is ripe and fruity, a wine that is smooth...   \n",
       "2            US  Tart and snappy, the flavors of lime flesh and...   \n",
       "...         ...                                                ...   \n",
       "65496        US  Much improved over the unripe 2005, Fritz's 20...   \n",
       "65497        US  This wine wears its 15.8% alcohol better than ...   \n",
       "65498     Spain  A unique take on Manzanilla Sherry, which is o...   \n",
       "\n",
       "        designation  points  price           province           region_1  \\\n",
       "0      Vulkà Bianco      87    NaN  Sicily & Sardinia               Etna   \n",
       "1          Avidagos      87   15.0              Douro                NaN   \n",
       "2               NaN      87   14.0             Oregon  Willamette Valley   \n",
       "...             ...     ...    ...                ...                ...   \n",
       "65496        Estate      90   20.0         California   Dry Creek Valley   \n",
       "65497      Block 24      90   31.0         California        Napa Valley   \n",
       "65498    Manzanilla      90   10.0          Andalucia              Jerez   \n",
       "\n",
       "                region_2        taster_name taster_twitter_handle  \\\n",
       "0                    NaN      Kerin O’Keefe          @kerinokeefe   \n",
       "1                    NaN         Roger Voss            @vossroger   \n",
       "2      Willamette Valley       Paul Gregutt           @paulgwine    \n",
       "...                  ...                ...                   ...   \n",
       "65496             Sonoma                NaN                   NaN   \n",
       "65497               Napa                NaN                   NaN   \n",
       "65498                NaN  Michael Schachner           @wineschach   \n",
       "\n",
       "                                                   title          variety  \\\n",
       "0                      Nicosia 2013 Vulkà Bianco  (Etna)      White Blend   \n",
       "1          Quinta dos Avidagos 2011 Avidagos Red (Douro)   Portuguese Red   \n",
       "2          Rainstorm 2013 Pinot Gris (Willamette Valley)       Pinot Gris   \n",
       "...                                                  ...              ...   \n",
       "65496  Fritz 2006 Estate Sauvignon Blanc (Dry Creek V...  Sauvignon Blanc   \n",
       "65497       Hendry 2004 Block 24 Primitivo (Napa Valley)        Primitivo   \n",
       "65498  Bodegas Dios Baco S.L. NV Manzanilla Sherry (J...           Sherry   \n",
       "\n",
       "                       winery  \n",
       "0                     Nicosia  \n",
       "1         Quinta dos Avidagos  \n",
       "2                   Rainstorm  \n",
       "...                       ...  \n",
       "65496                   Fritz  \n",
       "65497                  Hendry  \n",
       "65498  Bodegas Dios Baco S.L.  \n",
       "\n",
       "[65499 rows x 13 columns]"
      ]
     },
     "metadata": {},
     "execution_count": 13
    }
   ],
   "metadata": {}
  },
  {
   "cell_type": "code",
   "execution_count": 14,
   "source": [
    "reviews.country"
   ],
   "outputs": [
    {
     "output_type": "execute_result",
     "data": {
      "text/plain": [
       "0           Italy\n",
       "1        Portugal\n",
       "2              US\n",
       "           ...   \n",
       "65496          US\n",
       "65497          US\n",
       "65498       Spain\n",
       "Name: country, Length: 65499, dtype: object"
      ]
     },
     "metadata": {},
     "execution_count": 14
    }
   ],
   "metadata": {}
  },
  {
   "cell_type": "code",
   "execution_count": 15,
   "source": [
    "reviews['country'][:]"
   ],
   "outputs": [
    {
     "output_type": "execute_result",
     "data": {
      "text/plain": [
       "0           Italy\n",
       "1        Portugal\n",
       "2              US\n",
       "           ...   \n",
       "65496          US\n",
       "65497          US\n",
       "65498       Spain\n",
       "Name: country, Length: 65499, dtype: object"
      ]
     },
     "metadata": {},
     "execution_count": 15
    }
   ],
   "metadata": {}
  },
  {
   "cell_type": "code",
   "execution_count": 16,
   "source": [
    "reviews.iloc[0]"
   ],
   "outputs": [
    {
     "output_type": "execute_result",
     "data": {
      "text/plain": [
       "country                                                    Italy\n",
       "description    Aromas include tropical fruit, broom, brimston...\n",
       "designation                                         Vulkà Bianco\n",
       "                                     ...                        \n",
       "title                          Nicosia 2013 Vulkà Bianco  (Etna)\n",
       "variety                                              White Blend\n",
       "winery                                                   Nicosia\n",
       "Name: 0, Length: 13, dtype: object"
      ]
     },
     "metadata": {},
     "execution_count": 16
    }
   ],
   "metadata": {}
  },
  {
   "cell_type": "code",
   "execution_count": 17,
   "source": [
    "reviews.iloc[:,0]"
   ],
   "outputs": [
    {
     "output_type": "execute_result",
     "data": {
      "text/plain": [
       "0           Italy\n",
       "1        Portugal\n",
       "2              US\n",
       "           ...   \n",
       "65496          US\n",
       "65497          US\n",
       "65498       Spain\n",
       "Name: country, Length: 65499, dtype: object"
      ]
     },
     "metadata": {},
     "execution_count": 17
    }
   ],
   "metadata": {}
  },
  {
   "cell_type": "code",
   "execution_count": 18,
   "source": [
    "# loc and iloc both row-first column-scond\r\n",
    "\r\n",
    "reviews.iloc[:,0] # it will select all rows in first column"
   ],
   "outputs": [
    {
     "output_type": "execute_result",
     "data": {
      "text/plain": [
       "0           Italy\n",
       "1        Portugal\n",
       "2              US\n",
       "           ...   \n",
       "65496          US\n",
       "65497          US\n",
       "65498       Spain\n",
       "Name: country, Length: 65499, dtype: object"
      ]
     },
     "metadata": {},
     "execution_count": 18
    }
   ],
   "metadata": {}
  },
  {
   "cell_type": "code",
   "execution_count": 26,
   "source": [
    "# iloc index based\r\n",
    "# loc is label based\r\n",
    "reviews.iloc[1:3,:4]"
   ],
   "outputs": [
    {
     "output_type": "execute_result",
     "data": {
      "text/html": [
       "<div>\n",
       "<style scoped>\n",
       "    .dataframe tbody tr th:only-of-type {\n",
       "        vertical-align: middle;\n",
       "    }\n",
       "\n",
       "    .dataframe tbody tr th {\n",
       "        vertical-align: top;\n",
       "    }\n",
       "\n",
       "    .dataframe thead th {\n",
       "        text-align: right;\n",
       "    }\n",
       "</style>\n",
       "<table border=\"1\" class=\"dataframe\">\n",
       "  <thead>\n",
       "    <tr style=\"text-align: right;\">\n",
       "      <th></th>\n",
       "      <th>country</th>\n",
       "      <th>description</th>\n",
       "      <th>designation</th>\n",
       "      <th>points</th>\n",
       "    </tr>\n",
       "  </thead>\n",
       "  <tbody>\n",
       "    <tr>\n",
       "      <th>1</th>\n",
       "      <td>Portugal</td>\n",
       "      <td>This is ripe and fruity, a wine that is smooth...</td>\n",
       "      <td>Avidagos</td>\n",
       "      <td>87</td>\n",
       "    </tr>\n",
       "    <tr>\n",
       "      <th>2</th>\n",
       "      <td>US</td>\n",
       "      <td>Tart and snappy, the flavors of lime flesh and...</td>\n",
       "      <td>NaN</td>\n",
       "      <td>87</td>\n",
       "    </tr>\n",
       "  </tbody>\n",
       "</table>\n",
       "</div>"
      ],
      "text/plain": [
       "    country                                        description designation  \\\n",
       "1  Portugal  This is ripe and fruity, a wine that is smooth...    Avidagos   \n",
       "2        US  Tart and snappy, the flavors of lime flesh and...         NaN   \n",
       "\n",
       "   points  \n",
       "1      87  \n",
       "2      87  "
      ]
     },
     "metadata": {},
     "execution_count": 26
    }
   ],
   "metadata": {}
  },
  {
   "cell_type": "code",
   "execution_count": 29,
   "source": [
    "# passing list.\r\n",
    "reviews.iloc[[0,4,7],[0,7,3]]"
   ],
   "outputs": [
    {
     "output_type": "execute_result",
     "data": {
      "text/html": [
       "<div>\n",
       "<style scoped>\n",
       "    .dataframe tbody tr th:only-of-type {\n",
       "        vertical-align: middle;\n",
       "    }\n",
       "\n",
       "    .dataframe tbody tr th {\n",
       "        vertical-align: top;\n",
       "    }\n",
       "\n",
       "    .dataframe thead th {\n",
       "        text-align: right;\n",
       "    }\n",
       "</style>\n",
       "<table border=\"1\" class=\"dataframe\">\n",
       "  <thead>\n",
       "    <tr style=\"text-align: right;\">\n",
       "      <th></th>\n",
       "      <th>country</th>\n",
       "      <th>region_2</th>\n",
       "      <th>points</th>\n",
       "    </tr>\n",
       "  </thead>\n",
       "  <tbody>\n",
       "    <tr>\n",
       "      <th>0</th>\n",
       "      <td>Italy</td>\n",
       "      <td>NaN</td>\n",
       "      <td>87</td>\n",
       "    </tr>\n",
       "    <tr>\n",
       "      <th>4</th>\n",
       "      <td>US</td>\n",
       "      <td>Willamette Valley</td>\n",
       "      <td>87</td>\n",
       "    </tr>\n",
       "    <tr>\n",
       "      <th>7</th>\n",
       "      <td>France</td>\n",
       "      <td>NaN</td>\n",
       "      <td>87</td>\n",
       "    </tr>\n",
       "  </tbody>\n",
       "</table>\n",
       "</div>"
      ],
      "text/plain": [
       "  country           region_2  points\n",
       "0   Italy                NaN      87\n",
       "4      US  Willamette Valley      87\n",
       "7  France                NaN      87"
      ]
     },
     "metadata": {},
     "execution_count": 29
    }
   ],
   "metadata": {}
  },
  {
   "cell_type": "code",
   "execution_count": null,
   "source": [],
   "outputs": [],
   "metadata": {}
  }
 ],
 "metadata": {
  "orig_nbformat": 4,
  "language_info": {
   "name": "python",
   "version": "3.8.8",
   "mimetype": "text/x-python",
   "codemirror_mode": {
    "name": "ipython",
    "version": 3
   },
   "pygments_lexer": "ipython3",
   "nbconvert_exporter": "python",
   "file_extension": ".py"
  },
  "kernelspec": {
   "name": "python3",
   "display_name": "Python 3.8.8 64-bit ('base': conda)"
  },
  "interpreter": {
   "hash": "efdfd2686e573dddf0c043741fac81f80551d77a937eef365896f7d2a67fdf2d"
  }
 },
 "nbformat": 4,
 "nbformat_minor": 2
}